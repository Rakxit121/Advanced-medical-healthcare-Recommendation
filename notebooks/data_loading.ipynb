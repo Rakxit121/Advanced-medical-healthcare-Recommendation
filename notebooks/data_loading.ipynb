{
 "cells": [
  {
   "cell_type": "code",
   "execution_count": 1,
   "metadata": {},
   "outputs": [],
   "source": [
    "import pandas as pd\n",
    "from sklearn.model_selection import train_test_split\n",
    "from sklearn.preprocessing import LabelEncoder, StandardScaler\n",
    "from sklearn.ensemble import RandomForestClassifier\n",
    "from sklearn.metrics import accuracy_score, confusion_matrix\n",
    "import os\n",
    "\n"
   ]
  },
  {
   "cell_type": "code",
   "execution_count": 3,
   "metadata": {},
   "outputs": [
    {
     "name": "stdout",
     "output_type": "stream",
     "text": [
      "   width column_name  variable_type\n",
      "0      2      VMONTH    CATEGORICAL\n",
      "1      1       VDAYR    CATEGORICAL\n",
      "2      4     ARRTIME  NONPREDICTIVE\n",
      "3      4    WAITTIME     CONTINUOUS\n",
      "4      4         LOV  NONPREDICTIVE\n"
     ]
    }
   ],
   "source": [
    "# Load the metadata\n",
    "HOME_PATH = 'D:\\\\Softwarica\\\\Thesis File\\\\data\\\\raw\\\\'\n",
    "df_helper = pd.read_csv(HOME_PATH + 'ED_metadata.csv', header=0)\n",
    "\n",
    "width = df_helper['width'].tolist()\n",
    "col_names = df_helper['column_name'].tolist()\n",
    "variable_types = df_helper['variable_type'].tolist()\n",
    "print(df_helper.head(n=5))\n"
   ]
  },
  {
   "cell_type": "code",
   "execution_count": null,
   "metadata": {},
   "outputs": [],
   "source": []
  }
 ],
 "metadata": {
  "kernelspec": {
   "display_name": "base",
   "language": "python",
   "name": "python3"
  },
  "language_info": {
   "codemirror_mode": {
    "name": "ipython",
    "version": 3
   },
   "file_extension": ".py",
   "mimetype": "text/x-python",
   "name": "python",
   "nbconvert_exporter": "python",
   "pygments_lexer": "ipython3",
   "version": "3.11.4"
  }
 },
 "nbformat": 4,
 "nbformat_minor": 2
}
