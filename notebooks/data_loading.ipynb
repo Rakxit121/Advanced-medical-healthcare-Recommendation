{
 "cells": [
  {
   "cell_type": "code",
   "execution_count": 2,
   "metadata": {},
   "outputs": [],
   "source": [
    "import pandas as pd\n",
    "from sklearn.model_selection import train_test_split\n",
    "from sklearn.preprocessing import LabelEncoder, StandardScaler\n",
    "from sklearn.ensemble import RandomForestClassifier\n",
    "from sklearn.metrics import accuracy_score, confusion_matrix\n",
    "import os\n",
    "\n"
   ]
  },
  {
   "cell_type": "code",
   "execution_count": 3,
   "metadata": {},
   "outputs": [
    {
     "name": "stdout",
     "output_type": "stream",
     "text": [
      "   width column_name  variable_type\n",
      "0      2      VMONTH    CATEGORICAL\n",
      "1      1       VDAYR    CATEGORICAL\n",
      "2      4     ARRTIME  NONPREDICTIVE\n",
      "3      4    WAITTIME     CONTINUOUS\n",
      "4      4         LOV  NONPREDICTIVE\n"
     ]
    }
   ],
   "source": [
    "# Load the metadata\n",
    "HOME_PATH = 'D:\\\\Softwarica\\\\Thesis File\\\\data\\\\raw\\\\'\n",
    "df_helper = pd.read_csv(HOME_PATH + 'ED_metadata.csv', header=0)\n",
    "\n",
    "width = df_helper['width'].tolist()\n",
    "col_names = df_helper['column_name'].tolist()\n",
    "variable_types = df_helper['variable_type'].tolist()\n",
    "print(df_helper.head(n=5))\n"
   ]
  },
  {
   "cell_type": "code",
   "execution_count": 4,
   "metadata": {},
   "outputs": [],
   "source": [
    "# Read the fixed-width formatted file into DataFrame\n",
    "df_ed = pd.read_fwf(HOME_PATH + 'ED2013', widths=width, header=None, dtype='str')\n",
    "df_ed.columns = col_names\n"
   ]
  },
  {
   "cell_type": "code",
   "execution_count": 6,
   "metadata": {},
   "outputs": [
    {
     "name": "stdout",
     "output_type": "stream",
     "text": [
      "  VMONTH VDAYR ARRTIME WAITTIME   LOV  AGE AGER AGEDAYS RESIDNCE SEX  ...  \\\n",
      "0     01     3    0647     0033  0058  046    4     -07       01   2  ...   \n",
      "1     01     3    1841     0109  0150  056    4     -07       01   2  ...   \n",
      "2     01     3    1333     0084  0198  037    3     -07       01   2  ...   \n",
      "3     01     3    1401     0159  0276  007    1     -07       01   1  ...   \n",
      "4     01     4    1947     0114  0248  053    4     -07       01   1  ...   \n",
      "\n",
      "  RX12V3C1 RX12V3C2 RX12V3C3 RX12V3C4 SETTYPE  YEAR   CSTRATM   CPSUM   PATWT  \\\n",
      "0      NaN      NaN      NaN      NaN       3  2013  20113201  100020  002945   \n",
      "1      NaN      NaN      NaN      NaN       3  2013  20113201  100020  002945   \n",
      "2      NaN      NaN      NaN      NaN       3  2013  20113201  100020  002945   \n",
      "3      NaN      NaN      NaN      NaN       3  2013  20113201  100020  002945   \n",
      "4      NaN      NaN      NaN      NaN       3  2013  20113201  100020  002945   \n",
      "\n",
      "  EDWT  \n",
      "0  NaN  \n",
      "1  NaN  \n",
      "2  NaN  \n",
      "3  NaN  \n",
      "4  NaN  \n",
      "\n",
      "[5 rows x 579 columns]\n"
     ]
    }
   ],
   "source": [
    "print(df_ed.head(n=5))"
   ]
  },
  {
   "cell_type": "code",
   "execution_count": 5,
   "metadata": {},
   "outputs": [
    {
     "name": "stdout",
     "output_type": "stream",
     "text": [
      "(24777, 579)\n"
     ]
    }
   ],
   "source": [
    "print(df_ed.shape)\n"
   ]
  },
  {
   "cell_type": "code",
   "execution_count": 6,
   "metadata": {},
   "outputs": [],
   "source": [
    "# Convert categorical variables to numerical\n",
    "le = LabelEncoder()\n",
    "for col in df_ed.select_dtypes(include=['object']).columns:\n",
    "    df_ed[col] = le.fit_transform(df_ed[col].astype(str))\n"
   ]
  },
  {
   "cell_type": "code",
   "execution_count": 7,
   "metadata": {},
   "outputs": [],
   "source": [
    "# Convert 'TEMPF' column to numeric\n",
    "df_ed.loc[:,'TEMPF'] = df_ed.loc[:,'TEMPF'].apply(pd.to_numeric, errors='coerce')\n",
    "\n",
    "# Convert other categorical variables to numerical\n",
    "le = LabelEncoder()\n",
    "for col in df_ed.select_dtypes(include=['object']).columns:\n",
    "    df_ed[col] = le.fit_transform(df_ed[col].astype(str))\n",
    "\n",
    "# Handle missing values by filling them with the mean of the column\n",
    "df_ed = df_ed.fillna(df_ed.mean())\n",
    "\n",
    "# Ensure the response columns are numeric\n",
    "response_cols = ['MED1', 'MED2', 'MED3', 'MED4', 'MED5', 'MED6', 'MED7', 'MED8', 'MED9', 'MED10', 'MED11', 'MED12']\n",
    "df_ed.loc[:, response_cols] = df_ed.loc[:, response_cols].apply(pd.to_numeric, errors='coerce')\n"
   ]
  },
  {
   "cell_type": "code",
   "execution_count": 8,
   "metadata": {},
   "outputs": [],
   "source": [
    "# Scale the numerical variables\n",
    "scaler = StandardScaler()\n",
    "numeric_cols = df_ed.select_dtypes(include=['int64', 'float64']).columns\n",
    "df_ed[numeric_cols] = scaler.fit_transform(df_ed[numeric_cols])\n"
   ]
  },
  {
   "cell_type": "code",
   "execution_count": 9,
   "metadata": {},
   "outputs": [
    {
     "name": "stdout",
     "output_type": "stream",
     "text": [
      "Predictor columns present: ['AGE', 'SEX', 'ETHUN', 'RACEUN', 'TEMPF', 'PULSE', 'RESPR', 'BPSYS', 'BPDIAS', 'IMMEDR', 'PAINSCALE', 'INJURY', 'CAUSE1', 'DIAG1', 'PRDIAG1', 'CANCER', 'CEBVD', 'COPD', 'EDDIAL', 'CHF', 'DEMENTIA', 'DIABETES', 'MIHX', 'DVT', 'EDHIV', 'ABG', 'BAC', 'BLOODCX', 'BNP', 'BUNCREAT', 'CARDENZ', 'CBC', 'DDIMER', 'ELECTROL', 'GLUCOSE', 'LACTATE', 'LFT', 'PTTINR', 'OTHERBLD', 'CARDMON', 'EKG', 'HIVTEST', 'FLUTEST', 'PREGTEST', 'TOXSCREN', 'URINE', 'WOUNDCX', 'URINECX', 'OTHIMAGE', 'XRAY', 'IVCONTRAST', 'CATSCAN', 'CTAB', 'CTCHEST', 'CTHEAD', 'CTOTHER', 'MRI', 'ULTRASND', 'OTHIMAGE']\n"
     ]
    }
   ],
   "source": [
    "# Verify the predictor columns exist\n",
    "predictor_cols = ['AGE', 'SEX', 'ETHUN', 'RACEUN', 'TEMPF', 'PULSE', 'RESPR', 'BPSYS', 'BPDIAS', 'IMMEDR', 'PAINSCALE', 'INJURY', 'CAUSE1', 'DIAG1', 'PRDIAG1', 'CANCER', 'CEBVD', 'COPD', 'EDDIAL', 'CHF', 'DEMENTIA', 'DIABETES', 'MIHX', 'DVT', 'EDHIV', 'ABG', 'BAC', 'BLOODCX', 'BNP', 'BUNCREAT', 'CARDENZ', 'CBC', 'DDIMER', 'ELECTROL', 'GLUCOSE', 'LACTATE', 'LFT', 'PTTINR', 'OTHERBLD', 'CARDMON', 'EKG', 'HIVTEST', 'FLUTEST', 'PREGTEST', 'TOXSCREN', 'URINE', 'WOUNDCX', 'URINECX', 'OTHIMAGE', 'XRAY', 'IVCONTRAST', 'CATSCAN', 'CTAB', 'CTCHEST', 'CTHEAD', 'CTOTHER', 'MRI', 'ULTRASND', 'OTHIMAGE']\n",
    "print(\"Predictor columns present:\", [col for col in predictor_cols if col in df_ed.columns])\n",
    "\n",
    "# Filter the DataFrame to only include the existing predictor columns\n",
    "existing_predictor_cols = [col for col in predictor_cols if col in df_ed.columns]\n",
    "X = df_ed[existing_predictor_cols]\n",
    "y = df_ed[response_cols]\n"
   ]
  },
  {
   "cell_type": "code",
   "execution_count": 10,
   "metadata": {},
   "outputs": [],
   "source": [
    "# Split the dataset into training and testing sets\n",
    "X_train, X_test, y_train, y_test = train_test_split(X, y, test_size=0.2, random_state=42)\n",
    "\n"
   ]
  }
 ],
 "metadata": {
  "kernelspec": {
   "display_name": "base",
   "language": "python",
   "name": "python3"
  },
  "language_info": {
   "codemirror_mode": {
    "name": "ipython",
    "version": 3
   },
   "file_extension": ".py",
   "mimetype": "text/x-python",
   "name": "python",
   "nbconvert_exporter": "python",
   "pygments_lexer": "ipython3",
   "version": "3.11.4"
  }
 },
 "nbformat": 4,
 "nbformat_minor": 2
}
